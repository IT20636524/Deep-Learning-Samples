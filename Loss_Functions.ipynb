{
  "nbformat": 4,
  "nbformat_minor": 0,
  "metadata": {
    "colab": {
      "provenance": [],
      "authorship_tag": "ABX9TyOq5eZFsl4YJQtw+BhMlOPY",
      "include_colab_link": true
    },
    "kernelspec": {
      "name": "python3",
      "display_name": "Python 3"
    },
    "language_info": {
      "name": "python"
    }
  },
  "cells": [
    {
      "cell_type": "markdown",
      "metadata": {
        "id": "view-in-github",
        "colab_type": "text"
      },
      "source": [
        "<a href=\"https://colab.research.google.com/github/IT20636524/Deep-Learning-Samples/blob/main/Loss_Functions.ipynb\" target=\"_parent\"><img src=\"https://colab.research.google.com/assets/colab-badge.svg\" alt=\"Open In Colab\"/></a>"
      ]
    },
    {
      "cell_type": "markdown",
      "source": [
        "# Loss Functions for Regression"
      ],
      "metadata": {
        "id": "HUJCJ8rAotGK"
      }
    },
    {
      "cell_type": "markdown",
      "source": [
        "**Mean Squared Error(MSE)**"
      ],
      "metadata": {
        "id": "oIJJ13Pyo10N"
      }
    },
    {
      "cell_type": "code",
      "execution_count": 2,
      "metadata": {
        "id": "h6xVVCZsorDX"
      },
      "outputs": [],
      "source": [
        "import tensorflow as tf"
      ]
    },
    {
      "cell_type": "code",
      "source": [
        "y_true = [0.0, 0.5, 0.7, 1.0]\n",
        "y_pred = [0.2, 0.3, 0.9, 0.7]\n",
        "\n",
        "mse = tf.keras.losses.MeanSquaredError()\n",
        "result = mse(y_true, y_pred).numpy()\n",
        "print(f\"Mean Squared Error: {result}\")"
      ],
      "metadata": {
        "colab": {
          "base_uri": "https://localhost:8080/"
        },
        "id": "Sblf4iBko_lK",
        "outputId": "05794efe-7734-474d-cee3-4cdd7004ca5e"
      },
      "execution_count": 2,
      "outputs": [
        {
          "output_type": "stream",
          "name": "stdout",
          "text": [
            "Mean Squared Error: 0.05249999836087227\n"
          ]
        }
      ]
    },
    {
      "cell_type": "markdown",
      "source": [
        "**Mean Absolute Error(MAE)**"
      ],
      "metadata": {
        "id": "1yAcrfDyrKfs"
      }
    },
    {
      "cell_type": "code",
      "source": [
        "y_true = [0.0, 0.5, 0.7, 1.0]\n",
        "y_pred = [0.2, 0.3, 0.9, 0.7]\n",
        "\n",
        "mae = tf.keras.losses.MeanAbsoluteError()\n",
        "result = mae(y_true, y_pred).numpy()\n",
        "print(f\"Mean Absolute Error: {result}\")"
      ],
      "metadata": {
        "colab": {
          "base_uri": "https://localhost:8080/"
        },
        "outputId": "9705bc12-e48e-4c53-c7ac-beac929c04e0",
        "id": "CEY9r5lerYfD"
      },
      "execution_count": 4,
      "outputs": [
        {
          "output_type": "stream",
          "name": "stdout",
          "text": [
            "Mean Absolute Error: 0.22499999403953552\n"
          ]
        }
      ]
    },
    {
      "cell_type": "markdown",
      "source": [
        "**Huber Loss**"
      ],
      "metadata": {
        "id": "PSxV6D_Qsq8p"
      }
    },
    {
      "cell_type": "code",
      "source": [
        "y_true = [0.0, 0.5, 0.7, 1.0]\n",
        "y_pred = [0.2, 0.3, 0.9, 0.7]\n",
        "\n",
        "huber = tf.keras.losses.Huber(delta=0.75)\n",
        "result = huber(y_true, y_pred).numpy()\n",
        "print(f\"Huber Loss: {result}\")"
      ],
      "metadata": {
        "colab": {
          "base_uri": "https://localhost:8080/"
        },
        "outputId": "7811b967-c00c-41ba-8d06-cc2b76a6ec2f",
        "id": "Df-TGJ_Psv3R"
      },
      "execution_count": 5,
      "outputs": [
        {
          "output_type": "stream",
          "name": "stdout",
          "text": [
            "Huber Loss: 0.026249999180436134\n"
          ]
        }
      ]
    },
    {
      "cell_type": "markdown",
      "source": [
        "# Loss Functions for Classification"
      ],
      "metadata": {
        "id": "O_ADSWxItFqI"
      }
    },
    {
      "cell_type": "markdown",
      "source": [
        "**Binary Cross Entropy**"
      ],
      "metadata": {
        "id": "e95aSWrIbCXZ"
      }
    },
    {
      "cell_type": "code",
      "source": [
        "y_true = [0, 1, 0, 0]\n",
        "y_pred = [0.3, 0.6, 0.7, 0.1]\n",
        "\n",
        "bce = tf.keras.losses.BinaryCrossentropy()\n",
        "result = bce(y_true, y_pred).numpy()\n",
        "print(f\"Binary Cross Entropy: {result}\")"
      ],
      "metadata": {
        "colab": {
          "base_uri": "https://localhost:8080/"
        },
        "outputId": "f4f77588-1101-4c5e-d68f-67df814362f7",
        "id": "r-HjsSVibLaN"
      },
      "execution_count": 4,
      "outputs": [
        {
          "output_type": "stream",
          "name": "stdout",
          "text": [
            "Binary Cross Entropy: 0.544208288192749\n"
          ]
        }
      ]
    },
    {
      "cell_type": "markdown",
      "source": [
        "**Categorical Cross Entropy**"
      ],
      "metadata": {
        "id": "UpJEND7Ddcs3"
      }
    },
    {
      "cell_type": "code",
      "source": [
        "y_true = [[0, 1, 0], [0, 0, 1]]\n",
        "y_pred = [[0.05, 0.95, 0], [0.1, 0.8, 0.1]]\n",
        "\n",
        "cce = tf.keras.losses.CategoricalCrossentropy()\n",
        "result = cce(y_true, y_pred).numpy()\n",
        "print(f\"Categorical Cross Entropy: {result}\")"
      ],
      "metadata": {
        "colab": {
          "base_uri": "https://localhost:8080/"
        },
        "outputId": "06d82ea3-e38c-4f2f-8e7d-4b3a13f7674e",
        "id": "QXsAKzpJdhGF"
      },
      "execution_count": null,
      "outputs": [
        {
          "output_type": "stream",
          "name": "stdout",
          "text": [
            "Categorical Cross Entropy: 1.1769392490386963\n"
          ]
        }
      ]
    },
    {
      "cell_type": "markdown",
      "source": [
        "**Sparse Categorical Cross Entropy**"
      ],
      "metadata": {
        "id": "BTbE8te7fFAS"
      }
    },
    {
      "cell_type": "code",
      "source": [
        "y_true = [1, 2]\n",
        "y_pred = [[0.05, 0.95, 0], [0.1, 0.8, 0.1]]\n",
        "\n",
        "scce = tf.keras.losses.SparseCategoricalCrossentropy()\n",
        "result = scce(y_true, y_pred).numpy()\n",
        "print(f\"Sparse Categorical Cross Entropy: {result}\")"
      ],
      "metadata": {
        "colab": {
          "base_uri": "https://localhost:8080/"
        },
        "outputId": "200b290f-713e-407f-d6f2-9ad704413a23",
        "id": "Q1UTWwJufL3d"
      },
      "execution_count": 7,
      "outputs": [
        {
          "output_type": "stream",
          "name": "stdout",
          "text": [
            "Sparse Categorical Cross Entropy: 1.1769392490386963\n"
          ]
        }
      ]
    }
  ]
}