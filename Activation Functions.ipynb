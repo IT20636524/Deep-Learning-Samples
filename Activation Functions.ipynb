{
  "cells": [
    {
      "cell_type": "markdown",
      "metadata": {
        "id": "view-in-github",
        "colab_type": "text"
      },
      "source": [
        "<a href=\"https://colab.research.google.com/github/IT20636524/Deep-Learning-Samples/blob/main/Activation%20Functions.ipynb\" target=\"_parent\"><img src=\"https://colab.research.google.com/assets/colab-badge.svg\" alt=\"Open In Colab\"/></a>"
      ]
    },
    {
      "cell_type": "markdown",
      "source": [
        "# **Activation Functions**"
      ],
      "metadata": {
        "id": "fF2L5wRCVRkt"
      }
    },
    {
      "cell_type": "markdown",
      "source": [
        "**Sigmoid Activation Function**"
      ],
      "metadata": {
        "id": "Z9isEmlEVhqS"
      }
    },
    {
      "cell_type": "code",
      "source": [
        "import numpy as np\n",
        "\n",
        "def sigmoid(x):\n",
        "  return 1.0 / (1.0 + np.exp(-x))\n",
        "\n",
        "inputs = [13, 3, -12]\n",
        "\n",
        "for x in inputs:\n",
        "\tprint('{} --> {}'.format(x, sigmoid(x)))"
      ],
      "metadata": {
        "id": "Xcf8kWWBVgu1",
        "outputId": "4ef6b4f9-36fb-407e-96f7-fe865fd17317",
        "colab": {
          "base_uri": "https://localhost:8080/"
        }
      },
      "execution_count": 1,
      "outputs": [
        {
          "output_type": "stream",
          "name": "stdout",
          "text": [
            "13 --> 0.999997739675702\n",
            "3 --> 0.9525741268224334\n",
            "-12 --> 6.144174602214718e-06\n"
          ]
        }
      ]
    },
    {
      "cell_type": "markdown",
      "source": [
        "**Tanh Activation Function**"
      ],
      "metadata": {
        "id": "gfRnUj8TWsFO"
      }
    },
    {
      "cell_type": "code",
      "source": [
        "import numpy as np\n",
        "\n",
        "def tanh(x):\n",
        "  return np.exp(x) - np.exp(-x) / np.exp(x) + np.exp(-x)\n",
        "\n",
        "inputs = [13, 3, -12]\n",
        "\n",
        "for x in inputs:\n",
        "\tprint('{} --> {}'.format(x, tanh(x)))"
      ],
      "metadata": {
        "id": "CzLG75x7W0Oz",
        "outputId": "f5384f16-4a8b-4d5b-f03e-ace96a28159f",
        "colab": {
          "base_uri": "https://localhost:8080/"
        }
      },
      "execution_count": 2,
      "outputs": [
        {
          "output_type": "stream",
          "name": "stdout",
          "text": [
            "13 --> 442413.3920111808\n",
            "3 --> 20.132845239378863\n",
            "-12 --> -26488959375.052044\n"
          ]
        }
      ]
    },
    {
      "cell_type": "markdown",
      "source": [
        "**ReLU Activation Function**"
      ],
      "metadata": {
        "id": "3Gu4fcNCXVJO"
      }
    },
    {
      "cell_type": "code",
      "source": [
        "def relu(x):\n",
        "  return max(0.0, x)\n",
        "\n",
        "inputs = [13, 3, -12]\n",
        "\n",
        "for x in inputs:\n",
        "\tprint('{} --> {}'.format(x, relu(x)))"
      ],
      "metadata": {
        "id": "lDG3PJXMXY4r",
        "outputId": "9262fe64-4a35-41bc-f640-b90327da4e96",
        "colab": {
          "base_uri": "https://localhost:8080/"
        }
      },
      "execution_count": 3,
      "outputs": [
        {
          "output_type": "stream",
          "name": "stdout",
          "text": [
            "13 --> 13\n",
            "3 --> 3\n",
            "-12 --> 0.0\n"
          ]
        }
      ]
    },
    {
      "cell_type": "markdown",
      "source": [
        "**Leaky ReLU Activation Function**"
      ],
      "metadata": {
        "id": "1zxlgIDXXqKA"
      }
    },
    {
      "cell_type": "code",
      "source": [
        "def leakyRelu(x):\n",
        "  return max(0.1*x, x)\n",
        "\n",
        "inputs = [13, 3, -12]\n",
        "\n",
        "for x in inputs:\n",
        "\tprint('{} --> {}'.format(x, leakyRelu(x)))"
      ],
      "metadata": {
        "id": "tBl_C2koXyQf",
        "outputId": "1f04a98a-ff71-4e5f-e6eb-151493896cd8",
        "colab": {
          "base_uri": "https://localhost:8080/"
        }
      },
      "execution_count": 4,
      "outputs": [
        {
          "output_type": "stream",
          "name": "stdout",
          "text": [
            "13 --> 13\n",
            "3 --> 3\n",
            "-12 --> -1.2000000000000002\n"
          ]
        }
      ]
    },
    {
      "cell_type": "markdown",
      "source": [
        "**Softmax Activation Function**"
      ],
      "metadata": {
        "id": "q5wRcas2YGsd"
      }
    },
    {
      "cell_type": "code",
      "source": [
        "import numpy as np\n",
        "\n",
        "def softmax(x):\n",
        "  return np.exp(x) / np.exp(x).sum()\n",
        "\n",
        "inputs = [1, 3, -2]\n",
        "\n",
        "print(softmax(inputs))"
      ],
      "metadata": {
        "id": "JffOVEuGYJyv",
        "outputId": "ab21a730-c3c2-41cf-c02c-d0c700f5085f",
        "colab": {
          "base_uri": "https://localhost:8080/"
        }
      },
      "execution_count": 5,
      "outputs": [
        {
          "output_type": "stream",
          "name": "stdout",
          "text": [
            "[0.11849965 0.8756006  0.00589975]\n"
          ]
        }
      ]
    }
  ],
  "metadata": {
    "colab": {
      "name": "Welcome To Colaboratory",
      "provenance": [],
      "include_colab_link": true
    },
    "kernelspec": {
      "display_name": "Python 3",
      "name": "python3"
    }
  },
  "nbformat": 4,
  "nbformat_minor": 0
}